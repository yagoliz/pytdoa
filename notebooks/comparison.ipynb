{
 "cells": [
  {
   "cell_type": "code",
   "execution_count": 1,
   "metadata": {},
   "outputs": [],
   "source": [
    "# We need to join the upper directory in order to access the local modules\n",
    "import os\n",
    "import sys\n",
    "module_path = os.path.abspath(os.path.join('..'))\n",
    "if module_path not in sys.path:\n",
    "    sys.path.append(module_path)"
   ]
  },
  {
   "cell_type": "code",
   "execution_count": 2,
   "metadata": {},
   "outputs": [],
   "source": [
    "import itertools\n",
    "import json\n",
    "import logging\n",
    "\n",
    "logging.basicConfig(level=logging.ERROR)\n",
    "logger = logging.getLogger(__name__)"
   ]
  },
  {
   "cell_type": "code",
   "execution_count": 3,
   "metadata": {},
   "outputs": [],
   "source": [
    "import numpy as np\n",
    "import pandas as pd\n",
    "import scipy"
   ]
  },
  {
   "cell_type": "code",
   "execution_count": 4,
   "metadata": {},
   "outputs": [],
   "source": [
    "import pytdoa.geodesy.geodesy as geodesy\n",
    "import pytdoa.ltess.ltess as ltess\n",
    "import pytdoa.mlat.nlls as nlls\n",
    "from pytdoa.pytdoa import correct_fo\n",
    "from pytdoa.spec_load import spec_load\n",
    "import pytdoa.tdoa.tdoa as tdoa"
   ]
  },
  {
   "cell_type": "code",
   "execution_count": 5,
   "metadata": {},
   "outputs": [],
   "source": [
    "cfg_file = \"../.config/config.json\"\n",
    "with open(cfg_file) as f:\n",
    "    config = json.load(f)"
   ]
  },
  {
   "cell_type": "code",
   "execution_count": 6,
   "metadata": {},
   "outputs": [],
   "source": [
    "# Load configuration\n",
    "# Unknown transmitter\n",
    "fUS_MHz = config[\"transmitters\"][\"unknown\"][\"freq\"]\n",
    "fUS = fUS_MHz * 1e6\n",
    "\n",
    "# Reference transmitter\n",
    "fRS_MHz = config[\"transmitters\"][\"reference\"][\"freq\"]\n",
    "fRS = fRS_MHz * 1e6\n",
    "rs_lat = config[\"transmitters\"][\"reference\"][\"coord\"][0]\n",
    "rs_lon = config[\"transmitters\"][\"reference\"][\"coord\"][1]\n",
    "rs_alt = config[\"transmitters\"][\"reference\"][\"height\"]\n",
    "rs_llh = np.array([rs_lat, rs_lon, rs_alt]).reshape(1, 3)\n",
    "\n",
    "# Sensor configurations\n",
    "sr_tdoa = config[\"config\"][\"sample_rate\"]\n",
    "sr_ltess = config[\"config\"][\"sample_rate_ltess\"]\n",
    "sensors = pd.DataFrame(config[\"sensors\"])\n",
    "sensors[[\"latitude\", \"longitude\"]] = sensors.coordinates.to_list()\n",
    "sensors = sensors.drop([\"coordinates\"], axis=1)\n",
    "directory = config[\"config\"][\"folder\"]\n",
    "filenum = config[\"config\"][\"filenum\"]\n",
    "NUM_SENSORS = len(sensors)\n",
    "\n",
    "# TDOA estimation\n",
    "corr_type = config[\"config\"].get(\"corr_type\", \"dphase\")\n",
    "interpol = config[\"config\"].get(\"interpol\", 1)\n",
    "bw_rs = config[\"transmitters\"][\"reference\"].get(\"bw\", sr_tdoa)\n",
    "bw_us = config[\"transmitters\"][\"unknown\"].get(\"bw\", sr_tdoa)\n",
    "\n",
    "# Design the filter taps for all chunks\n",
    "taps_rs, taps_us = None, None\n",
    "if bw_rs < sr_tdoa:\n",
    "    taps_rs = tdoa.design_filt(bw_rs, sr_tdoa)\n",
    "    logger.info(f\"Filter for reference signal of bandwidth {bw_rs:.2f} created\")\n",
    "\n",
    "if bw_us < sr_tdoa:\n",
    "    taps_us = tdoa.design_filt(bw_us, sr_tdoa)\n",
    "    logger.info(f\"Filter for targe signal of bandwidth {bw_us:.2f} created\")\n",
    "\n",
    "# Correct the drift of the RTL-SDRs (requires knowing the drift in PPM)\n",
    "correct = config[\"config\"][\"correct\"]\n",
    "\n",
    "# Return the accurate position from NLLS\n",
    "method = config[\"config\"].get(\"method\", \"linear\")"
   ]
  },
  {
   "cell_type": "code",
   "execution_count": 94,
   "metadata": {},
   "outputs": [],
   "source": [
    "selected_list = [\"madrid_city_1\", \"mad_princesa\", \"chamberi\", \"rack_1\"]\n",
    "sensorsf = sensors.loc[sensors['name'].isin(selected_list)].copy()"
   ]
  },
  {
   "cell_type": "code",
   "execution_count": 57,
   "metadata": {},
   "outputs": [],
   "source": [
    "# Hack to reorder indices\n",
    "sensorsf.index = [1,0,2]\n",
    "sensorsf = sensorsf.sort_index()"
   ]
  },
  {
   "cell_type": "code",
   "execution_count": 58,
   "metadata": {},
   "outputs": [
    {
     "data": {
      "text/html": [
       "<div>\n",
       "<style scoped>\n",
       "    .dataframe tbody tr th:only-of-type {\n",
       "        vertical-align: middle;\n",
       "    }\n",
       "\n",
       "    .dataframe tbody tr th {\n",
       "        vertical-align: top;\n",
       "    }\n",
       "\n",
       "    .dataframe thead th {\n",
       "        text-align: right;\n",
       "    }\n",
       "</style>\n",
       "<table border=\"1\" class=\"dataframe\">\n",
       "  <thead>\n",
       "    <tr style=\"text-align: right;\">\n",
       "      <th></th>\n",
       "      <th>name</th>\n",
       "      <th>height</th>\n",
       "      <th>serial</th>\n",
       "      <th>id</th>\n",
       "      <th>latitude</th>\n",
       "      <th>longitude</th>\n",
       "    </tr>\n",
       "  </thead>\n",
       "  <tbody>\n",
       "    <tr>\n",
       "      <th>0</th>\n",
       "      <td>chamberi</td>\n",
       "      <td>600</td>\n",
       "      <td>202481591991736</td>\n",
       "      <td>1</td>\n",
       "      <td>40.43450</td>\n",
       "      <td>-3.7134</td>\n",
       "    </tr>\n",
       "    <tr>\n",
       "      <th>1</th>\n",
       "      <td>mad_princesa</td>\n",
       "      <td>600</td>\n",
       "      <td>202481589193614</td>\n",
       "      <td>6</td>\n",
       "      <td>40.43515</td>\n",
       "      <td>-3.6742</td>\n",
       "    </tr>\n",
       "    <tr>\n",
       "      <th>2</th>\n",
       "      <td>madrid_city_1</td>\n",
       "      <td>600</td>\n",
       "      <td>202481596393530</td>\n",
       "      <td>2</td>\n",
       "      <td>40.39970</td>\n",
       "      <td>-3.7067</td>\n",
       "    </tr>\n",
       "  </tbody>\n",
       "</table>\n",
       "</div>"
      ],
      "text/plain": [
       "            name  height           serial  id  latitude  longitude\n",
       "0       chamberi     600  202481591991736   1  40.43450    -3.7134\n",
       "1   mad_princesa     600  202481589193614   6  40.43515    -3.6742\n",
       "2  madrid_city_1     600  202481596393530   2  40.39970    -3.7067"
      ]
     },
     "execution_count": 58,
     "metadata": {},
     "output_type": "execute_result"
    }
   ],
   "source": [
    "sensorsf"
   ]
  },
  {
   "cell_type": "code",
   "execution_count": 21,
   "metadata": {},
   "outputs": [],
   "source": [
    "def get_samples_per_sensor(sensors):\n",
    "    samples = {}\n",
    "    for (i, sensor) in sensors.iterrows():\n",
    "        # Computing the distance to the Ref tX\n",
    "        sensor_llh = np.array(\n",
    "            [sensor[\"latitude\"], sensor[\"longitude\"], sensor[\"height\"]]\n",
    "        ).reshape(1, 3)\n",
    "        dist = geodesy.dist3fromllh(rs_llh, sensor_llh)\n",
    "        sensors.at[i, \"ref_dist\"] = dist\n",
    "\n",
    "        # Compute ECEF coordinates per sensor\n",
    "        ecef = geodesy.llh2ecef(sensor_llh).squeeze()\n",
    "        sensors.at[i, \"x\"] = ecef[0]\n",
    "        sensors.at[i, \"y\"] = ecef[1]\n",
    "        sensors.at[i, \"z\"] = ecef[2]\n",
    "\n",
    "        # Loading IQ data\n",
    "        sname = sensor[\"name\"]\n",
    "        fname_tdoa = f\"{directory}/{sname}/E{filenum}-{int(fRS_MHz)}_{int(fUS_MHz)}-localization.dat\"\n",
    "        fname_ltess = f\"{directory}/{sname}/E{filenum}-ltess.dat\"\n",
    "\n",
    "        tdoa_iq = spec_load(fname_tdoa)\n",
    "        ltess_iq = spec_load(fname_ltess)\n",
    "\n",
    "        if correct:\n",
    "            # Estimate Clock drift using the LTESS-Track tool\n",
    "            (PPM, _, _) = ltess.ltess(ltess_iq, resample_factor=60)\n",
    "            # Clock correction\n",
    "            samples[sname] = correct_fo(tdoa_iq, PPM, fRS, fUS, samplingRate=sr_tdoa)\n",
    "        else:\n",
    "            samples[sname] = tdoa_iq\n",
    "\n",
    "    return (samples)"
   ]
  },
  {
   "cell_type": "code",
   "execution_count": 95,
   "metadata": {},
   "outputs": [],
   "source": [
    "samples = get_samples_per_sensor(sensorsf)"
   ]
  },
  {
   "cell_type": "code",
   "execution_count": 60,
   "metadata": {},
   "outputs": [],
   "source": [
    "def compute_tdoa_combinations(sensors, samples, combinations):\n",
    "    combination_list = np.empty((0, 2), dtype=int)\n",
    "    tdoa_list = np.empty(0)\n",
    "\n",
    "    for combination in combinations:\n",
    "        i, j = combination[0], combination[1]\n",
    "\n",
    "        combination_list = np.vstack(\n",
    "            (combination_list, [combination[0], combination[1]])\n",
    "        )\n",
    "\n",
    "        name_i = sensors.iloc[i][\"name\"]\n",
    "        name_j = sensors.iloc[j][\"name\"]\n",
    "        rx_diff = sensors.iloc[i][\"ref_dist\"] - sensors.iloc[j][\"ref_dist\"]\n",
    "\n",
    "        tdoa_ij = tdoa.tdoa(\n",
    "            samples[name_i],\n",
    "            samples[name_j],\n",
    "            rx_diff,\n",
    "            interpol=interpol,\n",
    "            corr_type=corr_type,\n",
    "            taps_rs=taps_rs,\n",
    "            taps_us=taps_us,\n",
    "        )\n",
    "        tdoa_list = np.append(tdoa_list, [tdoa_ij[\"tdoa_m_i\"]])\n",
    "\n",
    "    return (combination_list, tdoa_list)"
   ]
  },
  {
   "cell_type": "code",
   "execution_count": 96,
   "metadata": {},
   "outputs": [],
   "source": [
    "# Get combinations and compute TDOAs per pair\n",
    "combinations = itertools.combinations(np.arange(len(sensorsf)), 2)\n",
    "(combination_list, tdoa_list) = compute_tdoa_combinations(sensorsf, samples, combinations)"
   ]
  },
  {
   "cell_type": "code",
   "execution_count": 97,
   "metadata": {},
   "outputs": [],
   "source": [
    "sensors_llh = sensorsf[[\"latitude\", \"longitude\", \"height\"]].to_numpy().reshape(-1,3)\n",
    "sensors_ecef = geodesy.llh2ecef(sensors[[\"latitude\", \"longitude\", \"height\"]].to_numpy())\n",
    "sensors_mean = np.mean(sensors_ecef, axis=0)\n",
    "\n",
    "optimfun = lambda X: nlls.nlls(X, sensors_ecef - sensors_mean, tdoa_list, combination_list)"
   ]
  },
  {
   "cell_type": "code",
   "execution_count": 98,
   "metadata": {},
   "outputs": [],
   "source": [
    "res = scipy.optimize.minimize(optimfun, sensors_mean, method=\"BFGS\")"
   ]
  },
  {
   "cell_type": "code",
   "execution_count": 99,
   "metadata": {},
   "outputs": [],
   "source": [
    "res_ecef = (res.x + sensors_mean).reshape(1,3)\n",
    "res_llh = geodesy.ecef2llh(res_ecef)"
   ]
  },
  {
   "cell_type": "code",
   "execution_count": 100,
   "metadata": {},
   "outputs": [
    {
     "data": {
      "text/plain": [
       "array([40.2772289 , -3.75514172])"
      ]
     },
     "execution_count": 100,
     "metadata": {},
     "output_type": "execute_result"
    }
   ],
   "source": [
    "res_llh[0,0:2]"
   ]
  },
  {
   "cell_type": "code",
   "execution_count": 101,
   "metadata": {},
   "outputs": [],
   "source": [
    "ltrange = 0.5\n",
    "lnrange = 0.5\n",
    "step=0.01\n",
    "Xs = [40.42053395579597, -3.664194425799879]\n",
    "lat_range = np.linspace(Xs[0]-ltrange, Xs[0]+ltrange, round((2*ltrange)/step))\n",
    "lon_range = np.linspace(Xs[1]-lnrange, Xs[1]+lnrange, round((2*lnrange)/step))"
   ]
  },
  {
   "cell_type": "code",
   "execution_count": 102,
   "metadata": {},
   "outputs": [],
   "source": [
    "corr_result = np.empty((lat_range.shape[0], lon_range.shape[0]))"
   ]
  },
  {
   "cell_type": "code",
   "execution_count": 65,
   "metadata": {},
   "outputs": [],
   "source": [
    "for (i, latitude) in enumerate(lat_range):\n",
    "    for (j,longitude) in enumerate(lon_range):\n",
    "        corr_result[i,j] = optimfun([latitude,longitude])"
   ]
  },
  {
   "cell_type": "code",
   "execution_count": 66,
   "metadata": {},
   "outputs": [],
   "source": [
    "corr_result_db = 10*np.log10(corr_result)"
   ]
  },
  {
   "cell_type": "code",
   "execution_count": 67,
   "metadata": {},
   "outputs": [],
   "source": [
    "ind = np.unravel_index(np.argmin(corr_result_db, axis=None), corr_result_db.shape)"
   ]
  },
  {
   "cell_type": "code",
   "execution_count": 68,
   "metadata": {},
   "outputs": [
    {
     "name": "stdout",
     "output_type": "stream",
     "text": [
      "40.647806683068694, -4.164194425799879\n",
      "49.35376305675244\n",
      "40.42053395579597, -3.664194425799879\n",
      "76.10610305414664\n"
     ]
    }
   ],
   "source": [
    "print(f\"{lat_range[ind[0]]}, {lon_range[ind[1]]}\")\n",
    "print(corr_result_db[ind])\n",
    "\n",
    "print(f\"{Xs[0]}, {Xs[1]}\")\n",
    "print(10*np.log10(optimfun([40.42053395579597, -3.664194425799879])))"
   ]
  },
  {
   "cell_type": "code",
   "execution_count": 69,
   "metadata": {},
   "outputs": [],
   "source": [
    "corr_result_db = 10 * np.log10(corr_result)"
   ]
  },
  {
   "cell_type": "code",
   "execution_count": 70,
   "metadata": {},
   "outputs": [],
   "source": [
    "from mpl_toolkits import mplot3d\n",
    "\n",
    "import numpy as np\n",
    "import matplotlib.pyplot as plt\n",
    "import seaborn as sns\n",
    "\n",
    "%matplotlib qt\n",
    "sns.set_style(\"white\")\n",
    "sns.set_context(\"notebook\")"
   ]
  },
  {
   "cell_type": "code",
   "execution_count": 71,
   "metadata": {},
   "outputs": [],
   "source": [
    "\n",
    "plt.figure(figsize=(20, 20), dpi=300)\n",
    "\n",
    "(LT, LN) = np.meshgrid(lat_range, lon_range)\n",
    "\n",
    "ax = plt.axes(projection='3d')\n",
    "ax.plot_surface(LT, LN, corr_result_db, rstride=1, cstride=1,\n",
    "                cmap='viridis', edgecolor='none')\n",
    "ax.scatter(lat_range[ind[0]], lon_range[ind[1]], corr_result_db[ind], marker='x')\n",
    "ax.scatter(40.4204657077291, -3.6641990667656934, 10*np.log10(optimfun([40.4204657077291, -3.6641990667656934])), marker='x')\n",
    "ax.set_xlabel('Latitude')\n",
    "ax.set_ylabel('Longitude')\n",
    "plt.show()"
   ]
  }
 ],
 "metadata": {
  "interpreter": {
   "hash": "7365eed13b7debf9ad257e5d39c079df260d05746faf355d2b807653d25b6fdd"
  },
  "kernelspec": {
   "display_name": "pytdoa",
   "language": "python",
   "name": "python3"
  },
  "language_info": {
   "codemirror_mode": {
    "name": "ipython",
    "version": 3
   },
   "file_extension": ".py",
   "mimetype": "text/x-python",
   "name": "python",
   "nbconvert_exporter": "python",
   "pygments_lexer": "ipython3",
   "version": "3.9.10"
  }
 },
 "nbformat": 4,
 "nbformat_minor": 2
}
