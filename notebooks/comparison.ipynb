{
 "cells": [
  {
   "cell_type": "code",
   "execution_count": 1,
   "metadata": {},
   "outputs": [],
   "source": [
    "# We need to join the upper directory in order to access the local modules\n",
    "import os\n",
    "import sys\n",
    "module_path = os.path.abspath(os.path.join('..'))\n",
    "if module_path not in sys.path:\n",
    "    sys.path.append(module_path)"
   ]
  },
  {
   "cell_type": "code",
   "execution_count": 2,
   "metadata": {},
   "outputs": [],
   "source": [
    "import itertools\n",
    "import json\n",
    "import logging\n",
    "\n",
    "logging.basicConfig(level=logging.ERROR)\n",
    "logger = logging.getLogger(__name__)"
   ]
  },
  {
   "cell_type": "code",
   "execution_count": 3,
   "metadata": {},
   "outputs": [],
   "source": [
    "import numpy as np\n",
    "import pandas as pd\n",
    "import scipy"
   ]
  },
  {
   "cell_type": "code",
   "execution_count": 16,
   "metadata": {},
   "outputs": [],
   "source": [
    "import geodesy.geodesy as geodesy\n",
    "import ltess.ltess as ltess\n",
    "import mlat.nlls as nlls\n",
    "from pytdoa import correct_fo\n",
    "from spec_load import spec_load\n",
    "import tdoa.tdoa as tdoa"
   ]
  },
  {
   "cell_type": "code",
   "execution_count": 5,
   "metadata": {},
   "outputs": [],
   "source": [
    "cfg_file = \"../.config/config.json\"\n",
    "with open(cfg_file) as f:\n",
    "    config = json.load(f)"
   ]
  },
  {
   "cell_type": "code",
   "execution_count": 6,
   "metadata": {},
   "outputs": [],
   "source": [
    "# Load configuration\n",
    "# Unknown transmitter\n",
    "fUS_MHz = config[\"transmitters\"][\"unknown\"][\"freq\"]\n",
    "fUS = fUS_MHz * 1e6\n",
    "\n",
    "# Reference transmitter\n",
    "fRS_MHz = config[\"transmitters\"][\"reference\"][\"freq\"]\n",
    "fRS = fRS_MHz * 1e6\n",
    "rs_lat = config[\"transmitters\"][\"reference\"][\"coord\"][0]\n",
    "rs_lon = config[\"transmitters\"][\"reference\"][\"coord\"][1]\n",
    "rs_alt = config[\"transmitters\"][\"reference\"][\"height\"]\n",
    "rs_llh = np.array([rs_lat, rs_lon, rs_alt]).reshape(1, 3)\n",
    "\n",
    "# Sensor configurations\n",
    "sr_tdoa = config[\"config\"][\"sample_rate\"]\n",
    "sr_ltess = config[\"config\"][\"sample_rate_ltess\"]\n",
    "sensors = pd.DataFrame(config[\"sensors\"])\n",
    "sensors[[\"latitude\", \"longitude\"]] = sensors.coordinates.to_list()\n",
    "sensors = sensors.drop([\"coordinates\"], axis=1)\n",
    "directory = config[\"config\"][\"folder\"]\n",
    "filenum = config[\"config\"][\"filenum\"]\n",
    "NUM_SENSORS = len(sensors)\n",
    "\n",
    "# TDOA estimation\n",
    "corr_type = config[\"config\"].get(\"corr_type\", \"dphase\")\n",
    "interpol = config[\"config\"].get(\"interpol\", 1)\n",
    "bw_rs = config[\"transmitters\"][\"reference\"].get(\"bw\", sr_tdoa)\n",
    "bw_us = config[\"transmitters\"][\"unknown\"].get(\"bw\", sr_tdoa)\n",
    "\n",
    "# Design the filter taps for all chunks\n",
    "taps_rs, taps_us = None, None\n",
    "if bw_rs < sr_tdoa:\n",
    "    taps_rs = tdoa.design_filt(bw_rs, sr_tdoa)\n",
    "    logger.info(f\"Filter for reference signal of bandwidth {bw_rs:.2f} created\")\n",
    "\n",
    "if bw_us < sr_tdoa:\n",
    "    taps_us = tdoa.design_filt(bw_us, sr_tdoa)\n",
    "    logger.info(f\"Filter for targe signal of bandwidth {bw_us:.2f} created\")\n",
    "\n",
    "# Correct the drift of the RTL-SDRs (requires knowing the drift in PPM)\n",
    "correct = config[\"config\"][\"correct\"]\n",
    "\n",
    "# Return the accurate position from NLLS\n",
    "method = config[\"config\"].get(\"method\", \"linear\")"
   ]
  },
  {
   "cell_type": "code",
   "execution_count": 11,
   "metadata": {},
   "outputs": [],
   "source": [
    "selected_list = [\"rack_1\", \"madrid_city_1\", \"mad_princesa\"]\n",
    "sensorsf = sensors.loc[sensors['name'].isin(selected_list)].copy()"
   ]
  },
  {
   "cell_type": "code",
   "execution_count": 8,
   "metadata": {},
   "outputs": [],
   "source": [
    "def get_samples_per_sensor(sensors):\n",
    "    samples = {}\n",
    "    for (i, sensor) in sensors.iterrows():\n",
    "        # Computing the distance to the Ref tX\n",
    "        sensor_llh = np.array(\n",
    "            [sensor[\"latitude\"], sensor[\"longitude\"], sensor[\"height\"]]\n",
    "        ).reshape(1, 3)\n",
    "        dist = geodesy.dist3fromllh(rs_llh, sensor_llh)\n",
    "        sensors.at[i, \"ref_dist\"] = dist\n",
    "\n",
    "        # Compute ECEF coordinates per sensor\n",
    "        ecef = geodesy.llh2ecef(sensor_llh).squeeze()\n",
    "        sensors.at[i, \"x\"] = ecef[0]\n",
    "        sensors.at[i, \"y\"] = ecef[1]\n",
    "        sensors.at[i, \"z\"] = ecef[2]\n",
    "\n",
    "        # Loading IQ data\n",
    "        sname = sensor[\"name\"]\n",
    "        fname_tdoa = f\"{directory}/{sname}/E{filenum}-{int(fRS_MHz)}_{int(fUS_MHz)}-localization.dat\"\n",
    "        fname_ltess = f\"{directory}/{sname}/E{filenum}-ltess.dat\"\n",
    "\n",
    "        tdoa_iq = spec_load(fname_tdoa)\n",
    "        ltess_iq = spec_load(fname_ltess)\n",
    "\n",
    "        if correct:\n",
    "            # Estimate Clock drift using the LTESS-Track tool\n",
    "            (PPM, _, _) = ltess.ltess(ltess_iq, resample_factor=60)\n",
    "            # Clock correction\n",
    "            samples[sname] = correct_fo(tdoa_iq, PPM, fRS, fUS, samplingRate=sr_tdoa)\n",
    "        else:\n",
    "            samples[sname] = tdoa_iq\n",
    "\n",
    "    return (samples)"
   ]
  },
  {
   "cell_type": "code",
   "execution_count": 12,
   "metadata": {},
   "outputs": [],
   "source": [
    "samples = get_samples_per_sensor(sensorsf)"
   ]
  },
  {
   "cell_type": "code",
   "execution_count": 13,
   "metadata": {},
   "outputs": [],
   "source": [
    "# Get combinations and compute TDOAs per pair\n",
    "combinations = itertools.combinations(np.arange(len(sensorsf)), 2)"
   ]
  },
  {
   "cell_type": "code",
   "execution_count": 14,
   "metadata": {},
   "outputs": [],
   "source": [
    "def compute_tdoa_combinations(sensors, samples, combinations):\n",
    "    combination_list = np.empty((0, 2), dtype=int)\n",
    "    tdoa_list = np.empty(0)\n",
    "\n",
    "    for combination in combinations:\n",
    "        i, j = combination[0], combination[1]\n",
    "\n",
    "        combination_list = np.vstack(\n",
    "            (combination_list, [combination[0], combination[1]])\n",
    "        )\n",
    "\n",
    "        name_i = sensors.iloc[i][\"name\"]\n",
    "        name_j = sensors.iloc[j][\"name\"]\n",
    "        rx_diff = sensors.iloc[i][\"ref_dist\"] - sensors.iloc[j][\"ref_dist\"]\n",
    "\n",
    "        tdoa_ij = tdoa.tdoa(\n",
    "            samples[name_i],\n",
    "            samples[name_j],\n",
    "            rx_diff,\n",
    "            interpol=interpol,\n",
    "            corr_type=corr_type,\n",
    "            taps_rs=taps_rs,\n",
    "            taps_us=taps_us,\n",
    "        )\n",
    "        tdoa_list = np.append(tdoa_list, [tdoa_ij[\"tdoa_m_i\"]])\n",
    "\n",
    "    return (combination_list, tdoa_list)"
   ]
  },
  {
   "cell_type": "code",
   "execution_count": 15,
   "metadata": {},
   "outputs": [],
   "source": [
    "(combination_list, tdoa_list) = compute_tdoa_combinations(sensorsf, samples, combinations)"
   ]
  },
  {
   "cell_type": "code",
   "execution_count": 31,
   "metadata": {},
   "outputs": [
    {
     "data": {
      "text/html": [
       "<div>\n",
       "<style scoped>\n",
       "    .dataframe tbody tr th:only-of-type {\n",
       "        vertical-align: middle;\n",
       "    }\n",
       "\n",
       "    .dataframe tbody tr th {\n",
       "        vertical-align: top;\n",
       "    }\n",
       "\n",
       "    .dataframe thead th {\n",
       "        text-align: right;\n",
       "    }\n",
       "</style>\n",
       "<table border=\"1\" class=\"dataframe\">\n",
       "  <thead>\n",
       "    <tr style=\"text-align: right;\">\n",
       "      <th></th>\n",
       "      <th>name</th>\n",
       "      <th>height</th>\n",
       "      <th>serial</th>\n",
       "      <th>id</th>\n",
       "      <th>latitude</th>\n",
       "      <th>longitude</th>\n",
       "      <th>ref_dist</th>\n",
       "      <th>x</th>\n",
       "      <th>y</th>\n",
       "      <th>z</th>\n",
       "    </tr>\n",
       "  </thead>\n",
       "  <tbody>\n",
       "    <tr>\n",
       "      <th>0</th>\n",
       "      <td>mad_princesa</td>\n",
       "      <td>600</td>\n",
       "      <td>202481589193614</td>\n",
       "      <td>6</td>\n",
       "      <td>40.43515</td>\n",
       "      <td>-3.6742</td>\n",
       "      <td>1828.915368</td>\n",
       "      <td>4.851972e+06</td>\n",
       "      <td>-311569.067234</td>\n",
       "      <td>4.115271e+06</td>\n",
       "    </tr>\n",
       "    <tr>\n",
       "      <th>2</th>\n",
       "      <td>madrid_city_1</td>\n",
       "      <td>600</td>\n",
       "      <td>202481596393530</td>\n",
       "      <td>2</td>\n",
       "      <td>40.39970</td>\n",
       "      <td>-3.7067</td>\n",
       "      <td>4289.580750</td>\n",
       "      <td>4.854342e+06</td>\n",
       "      <td>-314486.224278</td>\n",
       "      <td>4.112273e+06</td>\n",
       "    </tr>\n",
       "    <tr>\n",
       "      <th>3</th>\n",
       "      <td>rack_1</td>\n",
       "      <td>600</td>\n",
       "      <td>202481593109723</td>\n",
       "      <td>0</td>\n",
       "      <td>40.33700</td>\n",
       "      <td>-3.7704</td>\n",
       "      <td>12942.622238</td>\n",
       "      <td>4.858489e+06</td>\n",
       "      <td>-320179.527788</td>\n",
       "      <td>4.106968e+06</td>\n",
       "    </tr>\n",
       "  </tbody>\n",
       "</table>\n",
       "</div>"
      ],
      "text/plain": [
       "            name  height           serial  id  latitude  longitude  \\\n",
       "0   mad_princesa     600  202481589193614   6  40.43515    -3.6742   \n",
       "2  madrid_city_1     600  202481596393530   2  40.39970    -3.7067   \n",
       "3         rack_1     600  202481593109723   0  40.33700    -3.7704   \n",
       "\n",
       "       ref_dist             x              y             z  \n",
       "0   1828.915368  4.851972e+06 -311569.067234  4.115271e+06  \n",
       "2   4289.580750  4.854342e+06 -314486.224278  4.112273e+06  \n",
       "3  12942.622238  4.858489e+06 -320179.527788  4.106968e+06  "
      ]
     },
     "execution_count": 31,
     "metadata": {},
     "output_type": "execute_result"
    }
   ],
   "source": [
    "sensors_llh = sensorsf[[\"latitude\", \"longitude\", \"height\"]].to_numpy()\n",
    "X0 = np.mean(sensors_llh, axis=0)\n",
    "altitude = X0[2]\n",
    "\n",
    "sensors_ecef = geodesy.llh2ecef(\n",
    "    sensors[[\"latitude\", \"longitude\", \"height\"]].to_numpy()\n",
    ")\n",
    "sensors_mean = np.mean(sensors_ecef, axis=0)\n",
    "\n",
    "optimfun = lambda X: nlls.nlls_llh(\n",
    "    X, altitude, sensors_ecef - sensors_mean, sensors_mean, tdoa_list, combinations\n",
    ")\n"
   ]
  },
  {
   "cell_type": "code",
   "execution_count": 32,
   "metadata": {},
   "outputs": [
    {
     "data": {
      "text/plain": [
       "array([ -2420.38077089, -11058.80737696,  -8653.0414884 ])"
      ]
     },
     "execution_count": 32,
     "metadata": {},
     "output_type": "execute_result"
    }
   ],
   "source": [
    "tdoa_list"
   ]
  }
 ],
 "metadata": {
  "interpreter": {
   "hash": "7365eed13b7debf9ad257e5d39c079df260d05746faf355d2b807653d25b6fdd"
  },
  "kernelspec": {
   "display_name": "Python 3.9.10 ('pytdoa-Z8Etgw_3-py3.9')",
   "language": "python",
   "name": "python3"
  },
  "language_info": {
   "codemirror_mode": {
    "name": "ipython",
    "version": 3
   },
   "file_extension": ".py",
   "mimetype": "text/x-python",
   "name": "python",
   "nbconvert_exporter": "python",
   "pygments_lexer": "ipython3",
   "version": "3.9.10"
  },
  "orig_nbformat": 4
 },
 "nbformat": 4,
 "nbformat_minor": 2
}
